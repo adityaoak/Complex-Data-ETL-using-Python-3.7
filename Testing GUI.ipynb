{
 "cells": [
  {
   "cell_type": "code",
   "execution_count": 1,
   "metadata": {},
   "outputs": [
    {
     "name": "stdout",
     "output_type": "stream",
     "text": [
      "Stored 'fname' (str)\n",
      "importing Jupyter notebook from TestingEnvSecure.ipynb\n"
     ]
    },
    {
     "name": "stdin",
     "output_type": "stream",
     "text": [
      "Enter output file name:  ColorTest3\n"
     ]
    },
    {
     "ename": "SyntaxError",
     "evalue": "invalid syntax (TestingEnvSecure.ipynb, line 14)",
     "output_type": "error",
     "traceback": [
      "Traceback \u001b[1;36m(most recent call last)\u001b[0m:\n",
      "  File \u001b[0;32m\"C:\\Users\\aoak799\\AppData\\Local\\Continuum\\anaconda3\\lib\\site-packages\\IPython\\core\\interactiveshell.py\"\u001b[0m, line \u001b[0;32m3325\u001b[0m, in \u001b[0;35mrun_code\u001b[0m\n    exec(code_obj, self.user_global_ns, self.user_ns)\n",
      "  File \u001b[0;32m\"<ipython-input-1-f34b3ffd9392>\"\u001b[0m, line \u001b[0;32m42\u001b[0m, in \u001b[0;35m<module>\u001b[0m\n    from ipynb.fs.full.TestingEnvSecure import *\n",
      "  File \u001b[0;32m\"<frozen importlib._bootstrap>\"\u001b[0m, line \u001b[0;32m983\u001b[0m, in \u001b[0;35m_find_and_load\u001b[0m\n",
      "  File \u001b[0;32m\"<frozen importlib._bootstrap>\"\u001b[0m, line \u001b[0;32m967\u001b[0m, in \u001b[0;35m_find_and_load_unlocked\u001b[0m\n",
      "  File \u001b[0;32m\"<frozen importlib._bootstrap>\"\u001b[0m, line \u001b[0;32m677\u001b[0m, in \u001b[0;35m_load_unlocked\u001b[0m\n",
      "  File \u001b[0;32m\"<frozen importlib._bootstrap_external>\"\u001b[0m, line \u001b[0;32m724\u001b[0m, in \u001b[0;35mexec_module\u001b[0m\n",
      "\u001b[1;36m  File \u001b[1;32m\"C:\\Users\\aoak799\\AppData\\Local\\Continuum\\anaconda3\\lib\\site-packages\\ipynb\\fs\\full\\__init__.py\"\u001b[1;36m, line \u001b[1;32m43\u001b[1;36m, in \u001b[1;35mget_code\u001b[1;36m\u001b[0m\n\u001b[1;33m    return self.source_to_code(code_from_ipynb(nb), self.path)\u001b[0m\n",
      "\u001b[1;36m  File \u001b[1;32m\"C:\\Users\\aoak799\\OneDrive - Comcast\\TestingEnvSecure.ipynb\"\u001b[1;36m, line \u001b[1;32m14\u001b[0m\n\u001b[1;33m    \"import re\\n\",\u001b[0m\n\u001b[1;37m    ^\u001b[0m\n\u001b[1;31mSyntaxError\u001b[0m\u001b[1;31m:\u001b[0m invalid syntax\n"
     ]
    }
   ],
   "source": [
    "import PySimpleGUI as sg\n",
    "import sys\n",
    "import import_ipynb\n",
    "import ipynb\n",
    "\n",
    "# --- Source----\n",
    "\n",
    "if len(sys.argv)  == 1:\n",
    "\n",
    " # All the stuff inside your window\n",
    "    layout = [  [sg.Text('Enter the source file name')],\n",
    "                [sg.In(), sg.FileBrowse()],\n",
    "                [sg.Open(), sg.Cancel()] ]\n",
    "\n",
    "# Create the Window\n",
    "    window = sg.Window('Tableau Documentation', layout)\n",
    "    event, values = window.read()\n",
    "    window.close()\n",
    "    \n",
    "    fname = values[0]\n",
    "    print(event, values)\n",
    "    \n",
    "else:\n",
    "    \n",
    "    fname = sys.argv[1]\n",
    "    fname = sg.popup_get_file('Document to open')\n",
    "    \n",
    "if not fname:\n",
    "    \n",
    "    sg.popup(\"Cancel\",\"No filename suplied\")\n",
    "    raise SystemExit(\"Cancelling: no filename supplied\")\n",
    "    window.close()\n",
    "    \n",
    "else:\n",
    "    \n",
    "    sg.popup('The filneame you chose was' ,fname)\n",
    "    \n",
    "      \n",
    "%store fname\n",
    "\n",
    "import TestingEnvSecure\n",
    "from ipynb.fs.full.TestingEnvSecure import *"
   ]
  }
 ],
 "metadata": {
  "kernelspec": {
   "display_name": "Python 3",
   "language": "python",
   "name": "python3"
  },
  "language_info": {
   "codemirror_mode": {
    "name": "ipython",
    "version": 3
   },
   "file_extension": ".py",
   "mimetype": "text/x-python",
   "name": "python",
   "nbconvert_exporter": "python",
   "pygments_lexer": "ipython3",
   "version": "3.7.3"
  }
 },
 "nbformat": 4,
 "nbformat_minor": 4
}
